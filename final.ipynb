{
  "nbformat": 4,
  "nbformat_minor": 0,
  "metadata": {
    "colab": {
      "name": "final.ipynb",
      "version": "0.3.2",
      "provenance": [],
      "collapsed_sections": [],
      "include_colab_link": true
    },
    "kernelspec": {
      "name": "python3",
      "display_name": "Python 3"
    },
    "accelerator": "GPU"
  },
  "cells": [
    {
      "cell_type": "markdown",
      "metadata": {
        "id": "view-in-github",
        "colab_type": "text"
      },
      "source": [
        "<a href=\"https://colab.research.google.com/github/ShashankRaoM/app/blob/master/final.ipynb\" target=\"_parent\"><img src=\"https://colab.research.google.com/assets/colab-badge.svg\" alt=\"Open In Colab\"/></a>"
      ]
    },
    {
      "metadata": {
        "id": "RHyWiwR2iE52",
        "colab_type": "code",
        "outputId": "38381711-b74d-4901-f43a-00b96afcd068",
        "colab": {
          "base_uri": "https://localhost:8080/",
          "height": 413
        }
      },
      "cell_type": "code",
      "source": [
        "!pip install PyDrive\n",
        "import os\n",
        "from pydrive.auth import GoogleAuth\n",
        "from pydrive.drive import GoogleDrive\n",
        "from google.colab import auth\n",
        "from oauth2client.client import GoogleCredentials\n",
        "auth.authenticate_user()\n",
        "gauth = GoogleAuth()\n",
        "gauth.credentials = GoogleCredentials.get_application_default()\n",
        "drive = GoogleDrive(gauth)\n",
        "\n",
        "#To download from google drive\n",
        "\n",
        "download= drive.CreateFile({'id':'1yBKz5iYlvCeKBEZ4np4WXOrkmZYGQsDp'})\n",
        "download.GetContentFile('X_test.hdf5')\n",
        "\n",
        "download= drive.CreateFile({'id':'1HBZzwp2n1bt9IBA95pJlWjvLJGcpSq_s'})\n",
        "download.GetContentFile('X_train.hdf5')\n",
        "\n",
        "download= drive.CreateFile({'id':'13gL1vSCxb1r1QbJGRshkoEVhmIGxMJyx'})\n",
        "download.GetContentFile('X_val.hdf5')\n",
        "\n",
        "download= drive.CreateFile({'id':'1XY5hA_HwL1pqOzp-F6zm628bWSS9XeA8'})\n",
        "download.GetContentFile('y_test.hdf5')\n",
        "\n",
        "download= drive.CreateFile({'id':'14Sgpl6EqvUFncfyfei07kND1GKPClMWB'})\n",
        "download.GetContentFile('y_train.hdf5')\n",
        "\n",
        "download= drive.CreateFile({'id':'1k55de4jdMXlKD4U3wC3MnQzgWo9-Z974'})\n",
        "download.GetContentFile('y_val.hdf5')\n",
        "\n",
        "!pip install h5py\n",
        "import h5py\n",
        "with h5py.File('X_test.hdf5', 'r') as f:\n",
        "   X_test = f['default'][:]\n",
        "\n",
        "with h5py.File('X_train.hdf5', 'r') as f:\n",
        "   X_train = f['default'][:]\n",
        "    \n",
        "with h5py.File('X_val.hdf5', 'r') as f:\n",
        "   X_val = f['default'][:]\n",
        "\n",
        "with h5py.File('y_test.hdf5', 'r') as f:\n",
        "   y_test = f['default'][:]\n",
        "\n",
        "with h5py.File('y_train.hdf5', 'r') as f:\n",
        "   y_train = f['default'][:]\n",
        "    \n",
        "with h5py.File('y_val.hdf5', 'r') as f:\n",
        "   y_val = f['default'][:]"
      ],
      "execution_count": 1,
      "outputs": [
        {
          "output_type": "stream",
          "text": [
            "Collecting PyDrive\n",
            "\u001b[?25l  Downloading https://files.pythonhosted.org/packages/52/e0/0e64788e5dd58ce2d6934549676243dc69d982f198524be9b99e9c2a4fd5/PyDrive-1.3.1.tar.gz (987kB)\n",
            "\r\u001b[K    1% |▎                               | 10kB 13.4MB/s eta 0:00:01\r\u001b[K    2% |▋                               | 20kB 4.9MB/s eta 0:00:01\r\u001b[K    3% |█                               | 30kB 7.0MB/s eta 0:00:01\r\u001b[K    4% |█▎                              | 40kB 4.4MB/s eta 0:00:01\r\u001b[K    5% |█▋                              | 51kB 5.3MB/s eta 0:00:01\r\u001b[K    6% |██                              | 61kB 6.3MB/s eta 0:00:01\r\u001b[K    7% |██▎                             | 71kB 7.1MB/s eta 0:00:01\r\u001b[K    8% |██▋                             | 81kB 7.9MB/s eta 0:00:01\r\u001b[K    9% |███                             | 92kB 8.7MB/s eta 0:00:01\r\u001b[K    10% |███▎                            | 102kB 7.0MB/s eta 0:00:01\r\u001b[K    11% |███▋                            | 112kB 7.2MB/s eta 0:00:01\r\u001b[K    12% |████                            | 122kB 9.1MB/s eta 0:00:01\r\u001b[K    13% |████▎                           | 133kB 9.1MB/s eta 0:00:01\r\u001b[K    14% |████▋                           | 143kB 15.8MB/s eta 0:00:01\r\u001b[K    15% |█████                           | 153kB 16.0MB/s eta 0:00:01\r\u001b[K    16% |█████▎                          | 163kB 15.9MB/s eta 0:00:01\r\u001b[K    17% |█████▋                          | 174kB 15.8MB/s eta 0:00:01\r\u001b[K    18% |██████                          | 184kB 16.3MB/s eta 0:00:01\r\u001b[K    19% |██████▎                         | 194kB 16.3MB/s eta 0:00:01\r\u001b[K    20% |██████▋                         | 204kB 38.6MB/s eta 0:00:01\r\u001b[K    21% |███████                         | 215kB 20.7MB/s eta 0:00:01\r\u001b[K    22% |███████▎                        | 225kB 21.2MB/s eta 0:00:01\r\u001b[K    23% |███████▋                        | 235kB 21.5MB/s eta 0:00:01\r\u001b[K    24% |████████                        | 245kB 21.0MB/s eta 0:00:01\r\u001b[K    25% |████████▎                       | 256kB 21.0MB/s eta 0:00:01\r\u001b[K    26% |████████▋                       | 266kB 20.7MB/s eta 0:00:01\r\u001b[K    27% |█████████                       | 276kB 21.3MB/s eta 0:00:01\r\u001b[K    29% |█████████▎                      | 286kB 21.3MB/s eta 0:00:01\r\u001b[K    30% |█████████▋                      | 296kB 21.3MB/s eta 0:00:01\r\u001b[K    31% |██████████                      | 307kB 22.7MB/s eta 0:00:01\r\u001b[K    32% |██████████▎                     | 317kB 50.3MB/s eta 0:00:01\r\u001b[K    33% |██████████▋                     | 327kB 49.0MB/s eta 0:00:01\r\u001b[K    34% |███████████                     | 337kB 50.0MB/s eta 0:00:01\r\u001b[K    35% |███████████▎                    | 348kB 48.6MB/s eta 0:00:01\r\u001b[K    36% |███████████▋                    | 358kB 48.8MB/s eta 0:00:01\r\u001b[K    37% |████████████                    | 368kB 51.1MB/s eta 0:00:01\r\u001b[K    38% |████████████▎                   | 378kB 50.5MB/s eta 0:00:01\r\u001b[K    39% |████████████▋                   | 389kB 50.9MB/s eta 0:00:01\r\u001b[K    40% |█████████████                   | 399kB 29.2MB/s eta 0:00:01\r\u001b[K    41% |█████████████▎                  | 409kB 26.2MB/s eta 0:00:01\r\u001b[K    42% |█████████████▋                  | 419kB 26.3MB/s eta 0:00:01\r\u001b[K    43% |██████████████                  | 430kB 26.6MB/s eta 0:00:01\r\u001b[K    44% |██████████████▎                 | 440kB 26.0MB/s eta 0:00:01\r\u001b[K    45% |██████████████▋                 | 450kB 25.5MB/s eta 0:00:01\r\u001b[K    46% |███████████████                 | 460kB 25.2MB/s eta 0:00:01\r\u001b[K    47% |███████████████▎                | 471kB 25.4MB/s eta 0:00:01\r\u001b[K    48% |███████████████▋                | 481kB 25.4MB/s eta 0:00:01\r\u001b[K    49% |████████████████                | 491kB 25.2MB/s eta 0:00:01\r\u001b[K    50% |████████████████▎               | 501kB 39.8MB/s eta 0:00:01\r\u001b[K    51% |████████████████▋               | 512kB 39.8MB/s eta 0:00:01\r\u001b[K    52% |█████████████████               | 522kB 39.8MB/s eta 0:00:01\r\u001b[K    53% |█████████████████▎              | 532kB 40.7MB/s eta 0:00:01\r\u001b[K    54% |█████████████████▋              | 542kB 41.8MB/s eta 0:00:01\r\u001b[K    55% |██████████████████              | 552kB 47.0MB/s eta 0:00:01\r\u001b[K    57% |██████████████████▎             | 563kB 46.8MB/s eta 0:00:01\r\u001b[K    58% |██████████████████▋             | 573kB 46.2MB/s eta 0:00:01\r\u001b[K    59% |███████████████████             | 583kB 46.3MB/s eta 0:00:01\r\u001b[K    60% |███████████████████▎            | 593kB 46.8MB/s eta 0:00:01\r\u001b[K    61% |███████████████████▋            | 604kB 47.3MB/s eta 0:00:01\r\u001b[K    62% |████████████████████            | 614kB 57.0MB/s eta 0:00:01\r\u001b[K    63% |████████████████████▎           | 624kB 55.1MB/s eta 0:00:01\r\u001b[K    64% |████████████████████▋           | 634kB 55.3MB/s eta 0:00:01\r\u001b[K    65% |█████████████████████           | 645kB 55.4MB/s eta 0:00:01\r\u001b[K    66% |█████████████████████▎          | 655kB 48.4MB/s eta 0:00:01\r\u001b[K    67% |█████████████████████▋          | 665kB 44.9MB/s eta 0:00:01\r\u001b[K    68% |██████████████████████          | 675kB 45.3MB/s eta 0:00:01\r\u001b[K    69% |██████████████████████▎         | 686kB 45.5MB/s eta 0:00:01\r\u001b[K    70% |██████████████████████▋         | 696kB 45.4MB/s eta 0:00:01\r\u001b[K    71% |███████████████████████         | 706kB 44.4MB/s eta 0:00:01\r\u001b[K    72% |███████████████████████▎        | 716kB 44.9MB/s eta 0:00:01\r\u001b[K    73% |███████████████████████▋        | 727kB 45.3MB/s eta 0:00:01\r\u001b[K    74% |████████████████████████        | 737kB 45.1MB/s eta 0:00:01\r\u001b[K    75% |████████████████████████▎       | 747kB 45.5MB/s eta 0:00:01\r\u001b[K    76% |████████████████████████▋       | 757kB 50.6MB/s eta 0:00:01\r\u001b[K    77% |████████████████████████▉       | 768kB 56.6MB/s eta 0:00:01\r\u001b[K    78% |█████████████████████████▏      | 778kB 56.6MB/s eta 0:00:01\r\u001b[K    79% |█████████████████████████▌      | 788kB 55.2MB/s eta 0:00:01\r\u001b[K    80% |█████████████████████████▉      | 798kB 54.6MB/s eta 0:00:01\r\u001b[K    81% |██████████████████████████▏     | 808kB 53.8MB/s eta 0:00:01\r\u001b[K    82% |██████████████████████████▌     | 819kB 53.6MB/s eta 0:00:01\r\u001b[K    83% |██████████████████████████▉     | 829kB 55.0MB/s eta 0:00:01\r\u001b[K    85% |███████████████████████████▏    | 839kB 55.4MB/s eta 0:00:01\r\u001b[K    86% |███████████████████████████▌    | 849kB 55.3MB/s eta 0:00:01\r\u001b[K    87% |███████████████████████████▉    | 860kB 48.5MB/s eta 0:00:01\r\u001b[K    88% |████████████████████████████▏   | 870kB 48.1MB/s eta 0:00:01\r\u001b[K    89% |████████████████████████████▌   | 880kB 49.0MB/s eta 0:00:01\r\u001b[K    90% |████████████████████████████▉   | 890kB 49.9MB/s eta 0:00:01\r\u001b[K    91% |█████████████████████████████▏  | 901kB 50.1MB/s eta 0:00:01\r\u001b[K    92% |█████████████████████████████▌  | 911kB 51.0MB/s eta 0:00:01\r\u001b[K    93% |█████████████████████████████▉  | 921kB 50.3MB/s eta 0:00:01\r\u001b[K    94% |██████████████████████████████▏ | 931kB 50.1MB/s eta 0:00:01\r\u001b[K    95% |██████████████████████████████▌ | 942kB 49.9MB/s eta 0:00:01\r\u001b[K    96% |██████████████████████████████▉ | 952kB 49.5MB/s eta 0:00:01\r\u001b[K    97% |███████████████████████████████▏| 962kB 57.5MB/s eta 0:00:01\r\u001b[K    98% |███████████████████████████████▌| 972kB 56.2MB/s eta 0:00:01\r\u001b[K    99% |███████████████████████████████▉| 983kB 53.8MB/s eta 0:00:01\r\u001b[K    100% |████████████████████████████████| 993kB 19.9MB/s \n",
            "\u001b[?25hRequirement already satisfied: google-api-python-client>=1.2 in /usr/local/lib/python3.6/dist-packages (from PyDrive) (1.6.7)\n",
            "Requirement already satisfied: oauth2client>=4.0.0 in /usr/local/lib/python3.6/dist-packages (from PyDrive) (4.1.3)\n",
            "Requirement already satisfied: PyYAML>=3.0 in /usr/local/lib/python3.6/dist-packages (from PyDrive) (3.13)\n",
            "Requirement already satisfied: httplib2<1dev,>=0.9.2 in /usr/local/lib/python3.6/dist-packages (from google-api-python-client>=1.2->PyDrive) (0.11.3)\n",
            "Requirement already satisfied: uritemplate<4dev,>=3.0.0 in /usr/local/lib/python3.6/dist-packages (from google-api-python-client>=1.2->PyDrive) (3.0.0)\n",
            "Requirement already satisfied: six<2dev,>=1.6.1 in /usr/local/lib/python3.6/dist-packages (from google-api-python-client>=1.2->PyDrive) (1.11.0)\n",
            "Requirement already satisfied: rsa>=3.1.4 in /usr/local/lib/python3.6/dist-packages (from oauth2client>=4.0.0->PyDrive) (4.0)\n",
            "Requirement already satisfied: pyasn1>=0.1.7 in /usr/local/lib/python3.6/dist-packages (from oauth2client>=4.0.0->PyDrive) (0.4.5)\n",
            "Requirement already satisfied: pyasn1-modules>=0.0.5 in /usr/local/lib/python3.6/dist-packages (from oauth2client>=4.0.0->PyDrive) (0.2.4)\n",
            "Building wheels for collected packages: PyDrive\n",
            "  Building wheel for PyDrive (setup.py) ... \u001b[?25ldone\n",
            "\u001b[?25h  Stored in directory: /root/.cache/pip/wheels/fa/d2/9a/d3b6b506c2da98289e5d417215ce34b696db856643bad779f4\n",
            "Successfully built PyDrive\n",
            "Installing collected packages: PyDrive\n",
            "Successfully installed PyDrive-1.3.1\n",
            "Requirement already satisfied: h5py in /usr/local/lib/python3.6/dist-packages (2.8.0)\n",
            "Requirement already satisfied: numpy>=1.7 in /usr/local/lib/python3.6/dist-packages (from h5py) (1.14.6)\n",
            "Requirement already satisfied: six in /usr/local/lib/python3.6/dist-packages (from h5py) (1.11.0)\n"
          ],
          "name": "stdout"
        }
      ]
    },
    {
      "metadata": {
        "id": "JWFSwDpTV-hL",
        "colab_type": "code",
        "outputId": "d90ff528-5141-4b4e-9838-e05ca6938926",
        "colab": {
          "base_uri": "https://localhost:8080/",
          "height": 35
        }
      },
      "cell_type": "code",
      "source": [
        "import numpy as np\n",
        "batch=X_test.shape[0]\n",
        "frame=X_test.shape[1]\n",
        "height=X_test.shape[2]\n",
        "width=X_test.shape[3]\n",
        "X_test=X_test.reshape(batch,frame,height,width,1)\n",
        "\n",
        "batch=X_train.shape[0]\n",
        "frame=X_train.shape[1]\n",
        "height=X_train.shape[2]\n",
        "width=X_train.shape[3]\n",
        "X_train=X_train.reshape(batch,frame,height,width,1)\n",
        "print(X_train.shape)\n",
        "\n",
        "batch=X_val.shape[0]\n",
        "frame=X_val.shape[1]\n",
        "height=X_val.shape[2]\n",
        "width=X_val.shape[3]\n",
        "X_val=X_val.reshape(batch,frame,height,width,1)"
      ],
      "execution_count": 2,
      "outputs": [
        {
          "output_type": "stream",
          "text": [
            "(193118, 9, 30, 60, 1)\n"
          ],
          "name": "stdout"
        }
      ]
    },
    {
      "metadata": {
        "id": "zcLNo3oFTljp",
        "colab_type": "code",
        "outputId": "f74c61d4-76e6-4a04-f9d6-afe0f875adec",
        "colab": {
          "base_uri": "https://localhost:8080/",
          "height": 180
        }
      },
      "cell_type": "code",
      "source": [
        "from keras.models import Sequential\n",
        "from keras.layers.core import Dense, Dropout, Flatten\n",
        "from keras.layers import Convolution3D, MaxPooling3D, ZeroPadding3D, BatchNormalization, LSTM, ConvLSTM2D,Activation,MaxPooling2D\n",
        "from keras.optimizers import SGD\n",
        "\n",
        "model = Sequential()\n",
        "num_classes = 199\n",
        "# 1st layer group\n",
        "model.add(Convolution3D(128, 3, 3, 3, activation='relu', \n",
        "                        border_mode='same', name='conv1',\n",
        "                        input_shape = (9,30,60,1),\n",
        "                        dim_ordering='tf',\n",
        "                        subsample=(1, 1, 1)))\n",
        "model.add(BatchNormalization())\n",
        "model.add(Activation(\"relu\"))\n",
        "model.add(MaxPooling3D(pool_size=(1, 2, 2), strides=(1, 2, 2), \n",
        "                       border_mode='valid', name='pool1'))\n",
        "\n",
        "\n",
        "\n",
        "\n",
        "# 2nd layer group\n",
        "model.add(Convolution3D(256, 3, 3, 3, activation='relu', \n",
        "                        border_mode='same', name='conv2',\n",
        "                        dim_ordering='tf',\n",
        "                        subsample=(1, 1, 1)))\n",
        "model.add(BatchNormalization())\n",
        "model.add(Activation(\"relu\"))\n",
        "model.add(MaxPooling3D(pool_size=(2, 2, 2), strides=(2, 2, 2), \n",
        "                       border_mode='valid', name='pool2'))\n",
        "\n",
        "\n",
        "\n",
        "\n",
        "\n",
        "# 3rd layer group\n",
        "model.add(Convolution3D(512, 3, 3, 3, activation='relu', \n",
        "                        border_mode='same',\n",
        "                        dim_ordering='tf',\n",
        "                        name='conv3a',\n",
        "                        subsample=(1, 1, 1)))\n",
        "model.add(Convolution3D(512, 3, 3, 3, activation='relu', \n",
        "                        border_mode='same', \n",
        "                        dim_ordering='tf',\n",
        "                        name='conv3b',\n",
        "                        subsample=(1, 1, 1)))\n",
        "model.add(BatchNormalization())\n",
        "model.add(Activation(\"relu\"))\n",
        "model.add(MaxPooling3D(pool_size=(2, 2, 2), strides=(2, 2, 2), \n",
        "                       border_mode='valid', name='pool3'))\n",
        "\n",
        "#LSTM\n",
        "\n",
        "model.add(ConvLSTM2D(filters=40, kernel_size=(3, 3),\n",
        "               padding='same', return_sequences=True, name = 'LSTM1'))\n",
        "\n",
        "model.add(ConvLSTM2D(filters=40, kernel_size=(3, 3),\n",
        "               padding='same', return_sequences=False, name = 'LSTM2'))\n",
        "\n",
        "#spp\n",
        "#model.add(Flatten())\n",
        "#model.add(MaxPooling2D(pool_size=(28,28), strides=(28,28), border_mode='valid', name='spp1'))\n",
        "\n",
        "\n",
        "#model.add(MaxPooling2D(pool_size=(14,14), strides=(14,14), border_mode='valid', name='spp2'))\n",
        "model.add(Flatten())\n",
        "\n",
        "# FC layers group\n",
        "model.add(Dense(4096, activation='relu', name='fc6'))\n",
        "model.add(Dropout(.5))\n",
        "model.add(Dense(4096, activation='relu', name='fc7'))\n",
        "model.add(Dropout(.5))\n",
        "model.add(Dense(num_classes, activation='softmax', name='fc8'))\n"
      ],
      "execution_count": 4,
      "outputs": [
        {
          "output_type": "stream",
          "text": [
            "/usr/local/lib/python3.6/dist-packages/ipykernel_launcher.py:13: UserWarning: Update your `Conv3D` call to the Keras 2 API: `Conv3D(128, (3, 3, 3), activation=\"relu\", name=\"conv1\", input_shape=(9, 30, 60..., strides=(1, 1, 1), padding=\"same\", data_format=\"channels_last\")`\n",
            "  del sys.path[0]\n",
            "/usr/local/lib/python3.6/dist-packages/ipykernel_launcher.py:17: UserWarning: Update your `MaxPooling3D` call to the Keras 2 API: `MaxPooling3D(pool_size=(1, 2, 2), strides=(1, 2, 2), name=\"pool1\", padding=\"valid\")`\n",
            "/usr/local/lib/python3.6/dist-packages/ipykernel_launcher.py:26: UserWarning: Update your `Conv3D` call to the Keras 2 API: `Conv3D(256, (3, 3, 3), activation=\"relu\", name=\"conv2\", strides=(1, 1, 1), padding=\"same\", data_format=\"channels_last\")`\n",
            "/usr/local/lib/python3.6/dist-packages/ipykernel_launcher.py:30: UserWarning: Update your `MaxPooling3D` call to the Keras 2 API: `MaxPooling3D(pool_size=(2, 2, 2), strides=(2, 2, 2), name=\"pool2\", padding=\"valid\")`\n",
            "/usr/local/lib/python3.6/dist-packages/ipykernel_launcher.py:41: UserWarning: Update your `Conv3D` call to the Keras 2 API: `Conv3D(512, (3, 3, 3), activation=\"relu\", name=\"conv3a\", strides=(1, 1, 1), padding=\"same\", data_format=\"channels_last\")`\n",
            "/usr/local/lib/python3.6/dist-packages/ipykernel_launcher.py:46: UserWarning: Update your `Conv3D` call to the Keras 2 API: `Conv3D(512, (3, 3, 3), activation=\"relu\", name=\"conv3b\", strides=(1, 1, 1), padding=\"same\", data_format=\"channels_last\")`\n",
            "/usr/local/lib/python3.6/dist-packages/ipykernel_launcher.py:50: UserWarning: Update your `MaxPooling3D` call to the Keras 2 API: `MaxPooling3D(pool_size=(2, 2, 2), strides=(2, 2, 2), name=\"pool3\", padding=\"valid\")`\n"
          ],
          "name": "stderr"
        }
      ]
    },
    {
      "metadata": {
        "id": "U9NzYVwCjF5a",
        "colab_type": "code",
        "outputId": "daaf2aa9-9745-47a2-bd37-79e6d8af9f2f",
        "colab": {
          "base_uri": "https://localhost:8080/",
          "height": 127
        }
      },
      "cell_type": "code",
      "source": [
        "#To reload the model\n",
        "from keras.models import load_model\n",
        "from keras.optimizers import Adam\n",
        "\n",
        "optimizer = Adam(lr=1e-5, decay=1e-6)\n",
        "model.compile(loss='categorical_crossentropy', optimizer=optimizer, metrics=['accuracy'])\n",
        "model.fit(X_train, y_train,\n",
        "          batch_size=10,\n",
        "          epochs=1,\n",
        "          verbose=1,\n",
        "          validation_data=(X_test, y_test))\n",
        "#To save the model\n",
        "model.save('newmodelA.h5')\n",
        "del model\n",
        "#To save model in google drive (If doesnt work run the lines on the top again)\n",
        "from pydrive.auth import GoogleAuth\n",
        "from pydrive.drive import GoogleDrive\n",
        "from google.colab import auth\n",
        "from oauth2client.client import GoogleCredentials\n",
        "auth.authenticate_user()\n",
        "gauth = GoogleAuth()\n",
        "gauth.credentials = GoogleCredentials.get_application_default()\n",
        "drive = GoogleDrive(gauth)\n",
        "f = drive.CreateFile({'title': 'newmodelA.h5'})\n",
        "f.SetContentFile('newmodelA.h5')\n",
        "f.Upload()\n"
      ],
      "execution_count": 0,
      "outputs": [
        {
          "output_type": "stream",
          "text": [
            "Train on 193118 samples, validate on 9831 samples\n",
            "Epoch 1/2\n",
            "193118/193118 [==============================] - 8706s 45ms/step - loss: 4.0281 - acc: 0.1095 - val_loss: 3.2431 - val_acc: 0.2259\n",
            "Epoch 2/2\n",
            " 61590/193118 [========>.....................] - ETA: 1:36:52 - loss: 3.1792 - acc: 0.2314"
          ],
          "name": "stdout"
        }
      ]
    },
    {
      "metadata": {
        "id": "WKkECFZ_T8Nn",
        "colab_type": "code",
        "colab": {}
      },
      "cell_type": "code",
      "source": [
        "#To save model in google drive (If doesnt work run the lines on the top again)\n",
        "from pydrive.auth import GoogleAuth\n",
        "from pydrive.drive import GoogleDrive\n",
        "from google.colab import auth\n",
        "from oauth2client.client import GoogleCredentials\n",
        "auth.authenticate_user()\n",
        "gauth = GoogleAuth()\n",
        "gauth.credentials = GoogleCredentials.get_application_default()\n",
        "drive = GoogleDrive(gauth)\n",
        "f = drive.CreateFile({'title': 'point5modelA.h5'})\n",
        "f.SetContentFile('point5modelA.h5')\n",
        "f.Upload()"
      ],
      "execution_count": 0,
      "outputs": []
    },
    {
      "metadata": {
        "id": "2oNFo2CVxyAG",
        "colab_type": "code",
        "colab": {}
      },
      "cell_type": "code",
      "source": [
        "from pydrive.auth import GoogleAuth\n",
        "from pydrive.drive import GoogleDrive\n",
        "from google.colab import auth\n",
        "from oauth2client.client import GoogleCredentials\n",
        "auth.authenticate_user()\n",
        "gauth = GoogleAuth()\n",
        "gauth.credentials = GoogleCredentials.get_application_default()\n",
        "drive = GoogleDrive(gauth)\n",
        "download= drive.CreateFile({'id':'1rveBZNysQ-rtuG_x1MeY4HzEfZYkFNP-'})\n",
        "download.GetContentFile('point5modelD.h5')\n",
        "from keras.models import load_model\n",
        "model = load_model('point5modelD.h5')\n",
        "model.fit(X_train, y_train,\n",
        "          batch_size=10,\n",
        "          epochs=3,\n",
        "          verbose=1,\n",
        "          validation_data=(X_test, y_test))\n",
        "#To save the model\n",
        "model.save('point5modelE.h5')\n",
        "del model\n",
        "import os\n",
        "\n",
        "#To save model in google drive (If doesnt work run the lines on the top again)\n",
        "f = drive.CreateFile({'title': 'point5modelE.h5'})\n",
        "f.SetContentFile('point5modelE.h5')\n",
        "f.Upload()"
      ],
      "execution_count": 0,
      "outputs": []
    }
  ]
}